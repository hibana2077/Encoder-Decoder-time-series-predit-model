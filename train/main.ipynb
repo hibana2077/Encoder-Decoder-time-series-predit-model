{
 "cells": [
  {
   "cell_type": "code",
   "execution_count": 1,
   "metadata": {},
   "outputs": [],
   "source": [
    "import pandas as pd\n",
    "import numpy as np\n",
    "import matplotlib.pyplot as plt"
   ]
  },
  {
   "cell_type": "code",
   "execution_count": 2,
   "metadata": {},
   "outputs": [],
   "source": [
    "df:pd.DataFrame = pd.read_csv('../data/BTC_USDT_1h.csv')"
   ]
  },
  {
   "cell_type": "code",
   "execution_count": 3,
   "metadata": {},
   "outputs": [
    {
     "data": {
      "text/html": [
       "<div>\n",
       "<style scoped>\n",
       "    .dataframe tbody tr th:only-of-type {\n",
       "        vertical-align: middle;\n",
       "    }\n",
       "\n",
       "    .dataframe tbody tr th {\n",
       "        vertical-align: top;\n",
       "    }\n",
       "\n",
       "    .dataframe thead th {\n",
       "        text-align: right;\n",
       "    }\n",
       "</style>\n",
       "<table border=\"1\" class=\"dataframe\">\n",
       "  <thead>\n",
       "    <tr style=\"text-align: right;\">\n",
       "      <th></th>\n",
       "      <th>timestamp</th>\n",
       "      <th>open</th>\n",
       "      <th>high</th>\n",
       "      <th>low</th>\n",
       "      <th>close</th>\n",
       "      <th>volume</th>\n",
       "    </tr>\n",
       "  </thead>\n",
       "  <tbody>\n",
       "    <tr>\n",
       "      <th>0</th>\n",
       "      <td>2023-01-01 00:00:00</td>\n",
       "      <td>16537.5</td>\n",
       "      <td>16540.9</td>\n",
       "      <td>16504.0</td>\n",
       "      <td>16527.0</td>\n",
       "      <td>5381.399</td>\n",
       "    </tr>\n",
       "    <tr>\n",
       "      <th>1</th>\n",
       "      <td>2023-01-01 01:00:00</td>\n",
       "      <td>16527.1</td>\n",
       "      <td>16554.3</td>\n",
       "      <td>16524.1</td>\n",
       "      <td>16550.4</td>\n",
       "      <td>3210.826</td>\n",
       "    </tr>\n",
       "    <tr>\n",
       "      <th>2</th>\n",
       "      <td>2023-01-01 02:00:00</td>\n",
       "      <td>16550.5</td>\n",
       "      <td>16557.1</td>\n",
       "      <td>16534.8</td>\n",
       "      <td>16542.4</td>\n",
       "      <td>2399.668</td>\n",
       "    </tr>\n",
       "    <tr>\n",
       "      <th>3</th>\n",
       "      <td>2023-01-01 03:00:00</td>\n",
       "      <td>16542.5</td>\n",
       "      <td>16542.5</td>\n",
       "      <td>16515.0</td>\n",
       "      <td>16529.3</td>\n",
       "      <td>3214.480</td>\n",
       "    </tr>\n",
       "    <tr>\n",
       "      <th>4</th>\n",
       "      <td>2023-01-01 04:00:00</td>\n",
       "      <td>16529.2</td>\n",
       "      <td>16530.4</td>\n",
       "      <td>16508.8</td>\n",
       "      <td>16517.8</td>\n",
       "      <td>3150.954</td>\n",
       "    </tr>\n",
       "    <tr>\n",
       "      <th>...</th>\n",
       "      <td>...</td>\n",
       "      <td>...</td>\n",
       "      <td>...</td>\n",
       "      <td>...</td>\n",
       "      <td>...</td>\n",
       "      <td>...</td>\n",
       "    </tr>\n",
       "    <tr>\n",
       "      <th>8978</th>\n",
       "      <td>2024-01-10 02:00:00</td>\n",
       "      <td>45944.5</td>\n",
       "      <td>46104.8</td>\n",
       "      <td>45898.9</td>\n",
       "      <td>45990.0</td>\n",
       "      <td>5315.192</td>\n",
       "    </tr>\n",
       "    <tr>\n",
       "      <th>8979</th>\n",
       "      <td>2024-01-10 03:00:00</td>\n",
       "      <td>45989.9</td>\n",
       "      <td>46228.4</td>\n",
       "      <td>45939.4</td>\n",
       "      <td>46133.6</td>\n",
       "      <td>6154.987</td>\n",
       "    </tr>\n",
       "    <tr>\n",
       "      <th>8980</th>\n",
       "      <td>2024-01-10 04:00:00</td>\n",
       "      <td>46133.5</td>\n",
       "      <td>46200.0</td>\n",
       "      <td>45950.0</td>\n",
       "      <td>45970.4</td>\n",
       "      <td>6028.925</td>\n",
       "    </tr>\n",
       "    <tr>\n",
       "      <th>8981</th>\n",
       "      <td>2024-01-10 05:00:00</td>\n",
       "      <td>45970.4</td>\n",
       "      <td>46036.6</td>\n",
       "      <td>45903.0</td>\n",
       "      <td>45988.4</td>\n",
       "      <td>4137.107</td>\n",
       "    </tr>\n",
       "    <tr>\n",
       "      <th>8982</th>\n",
       "      <td>2024-01-10 06:00:00</td>\n",
       "      <td>45988.4</td>\n",
       "      <td>46076.9</td>\n",
       "      <td>45883.0</td>\n",
       "      <td>46013.9</td>\n",
       "      <td>3835.661</td>\n",
       "    </tr>\n",
       "  </tbody>\n",
       "</table>\n",
       "<p>8983 rows × 6 columns</p>\n",
       "</div>"
      ],
      "text/plain": [
       "                timestamp     open     high      low    close    volume\n",
       "0     2023-01-01 00:00:00  16537.5  16540.9  16504.0  16527.0  5381.399\n",
       "1     2023-01-01 01:00:00  16527.1  16554.3  16524.1  16550.4  3210.826\n",
       "2     2023-01-01 02:00:00  16550.5  16557.1  16534.8  16542.4  2399.668\n",
       "3     2023-01-01 03:00:00  16542.5  16542.5  16515.0  16529.3  3214.480\n",
       "4     2023-01-01 04:00:00  16529.2  16530.4  16508.8  16517.8  3150.954\n",
       "...                   ...      ...      ...      ...      ...       ...\n",
       "8978  2024-01-10 02:00:00  45944.5  46104.8  45898.9  45990.0  5315.192\n",
       "8979  2024-01-10 03:00:00  45989.9  46228.4  45939.4  46133.6  6154.987\n",
       "8980  2024-01-10 04:00:00  46133.5  46200.0  45950.0  45970.4  6028.925\n",
       "8981  2024-01-10 05:00:00  45970.4  46036.6  45903.0  45988.4  4137.107\n",
       "8982  2024-01-10 06:00:00  45988.4  46076.9  45883.0  46013.9  3835.661\n",
       "\n",
       "[8983 rows x 6 columns]"
      ]
     },
     "execution_count": 3,
     "metadata": {},
     "output_type": "execute_result"
    }
   ],
   "source": [
    "df"
   ]
  },
  {
   "cell_type": "code",
   "execution_count": 4,
   "metadata": {},
   "outputs": [
    {
     "data": {
      "text/html": [
       "<div>\n",
       "<style scoped>\n",
       "    .dataframe tbody tr th:only-of-type {\n",
       "        vertical-align: middle;\n",
       "    }\n",
       "\n",
       "    .dataframe tbody tr th {\n",
       "        vertical-align: top;\n",
       "    }\n",
       "\n",
       "    .dataframe thead th {\n",
       "        text-align: right;\n",
       "    }\n",
       "</style>\n",
       "<table border=\"1\" class=\"dataframe\">\n",
       "  <thead>\n",
       "    <tr style=\"text-align: right;\">\n",
       "      <th></th>\n",
       "      <th>open</th>\n",
       "      <th>high</th>\n",
       "      <th>low</th>\n",
       "      <th>close</th>\n",
       "      <th>volume</th>\n",
       "    </tr>\n",
       "    <tr>\n",
       "      <th>date</th>\n",
       "      <th></th>\n",
       "      <th></th>\n",
       "      <th></th>\n",
       "      <th></th>\n",
       "      <th></th>\n",
       "    </tr>\n",
       "  </thead>\n",
       "  <tbody>\n",
       "    <tr>\n",
       "      <th>2023-01-01 01:00:00</th>\n",
       "      <td>-0.000629</td>\n",
       "      <td>0.000810</td>\n",
       "      <td>0.001218</td>\n",
       "      <td>0.001416</td>\n",
       "      <td>-0.403347</td>\n",
       "    </tr>\n",
       "    <tr>\n",
       "      <th>2023-01-01 02:00:00</th>\n",
       "      <td>0.001416</td>\n",
       "      <td>0.000169</td>\n",
       "      <td>0.000648</td>\n",
       "      <td>-0.000483</td>\n",
       "      <td>-0.252632</td>\n",
       "    </tr>\n",
       "    <tr>\n",
       "      <th>2023-01-01 03:00:00</th>\n",
       "      <td>-0.000483</td>\n",
       "      <td>-0.000882</td>\n",
       "      <td>-0.001197</td>\n",
       "      <td>-0.000792</td>\n",
       "      <td>0.339552</td>\n",
       "    </tr>\n",
       "    <tr>\n",
       "      <th>2023-01-01 04:00:00</th>\n",
       "      <td>-0.000804</td>\n",
       "      <td>-0.000731</td>\n",
       "      <td>-0.000375</td>\n",
       "      <td>-0.000696</td>\n",
       "      <td>-0.019762</td>\n",
       "    </tr>\n",
       "    <tr>\n",
       "      <th>2023-01-01 05:00:00</th>\n",
       "      <td>-0.000690</td>\n",
       "      <td>0.000042</td>\n",
       "      <td>-0.000048</td>\n",
       "      <td>0.000478</td>\n",
       "      <td>0.037239</td>\n",
       "    </tr>\n",
       "    <tr>\n",
       "      <th>...</th>\n",
       "      <td>...</td>\n",
       "      <td>...</td>\n",
       "      <td>...</td>\n",
       "      <td>...</td>\n",
       "      <td>...</td>\n",
       "    </tr>\n",
       "    <tr>\n",
       "      <th>2024-01-10 02:00:00</th>\n",
       "      <td>0.001757</td>\n",
       "      <td>0.002703</td>\n",
       "      <td>0.005902</td>\n",
       "      <td>0.000993</td>\n",
       "      <td>-0.454137</td>\n",
       "    </tr>\n",
       "    <tr>\n",
       "      <th>2024-01-10 03:00:00</th>\n",
       "      <td>0.000988</td>\n",
       "      <td>0.002681</td>\n",
       "      <td>0.000882</td>\n",
       "      <td>0.003122</td>\n",
       "      <td>0.157999</td>\n",
       "    </tr>\n",
       "    <tr>\n",
       "      <th>2024-01-10 04:00:00</th>\n",
       "      <td>0.003122</td>\n",
       "      <td>-0.000614</td>\n",
       "      <td>0.000231</td>\n",
       "      <td>-0.003538</td>\n",
       "      <td>-0.020481</td>\n",
       "    </tr>\n",
       "    <tr>\n",
       "      <th>2024-01-10 05:00:00</th>\n",
       "      <td>-0.003535</td>\n",
       "      <td>-0.003537</td>\n",
       "      <td>-0.001023</td>\n",
       "      <td>0.000392</td>\n",
       "      <td>-0.313790</td>\n",
       "    </tr>\n",
       "    <tr>\n",
       "      <th>2024-01-10 06:00:00</th>\n",
       "      <td>0.000392</td>\n",
       "      <td>0.000875</td>\n",
       "      <td>-0.000436</td>\n",
       "      <td>0.000554</td>\n",
       "      <td>-0.072864</td>\n",
       "    </tr>\n",
       "  </tbody>\n",
       "</table>\n",
       "<p>8982 rows × 5 columns</p>\n",
       "</div>"
      ],
      "text/plain": [
       "                         open      high       low     close    volume\n",
       "date                                                                 \n",
       "2023-01-01 01:00:00 -0.000629  0.000810  0.001218  0.001416 -0.403347\n",
       "2023-01-01 02:00:00  0.001416  0.000169  0.000648 -0.000483 -0.252632\n",
       "2023-01-01 03:00:00 -0.000483 -0.000882 -0.001197 -0.000792  0.339552\n",
       "2023-01-01 04:00:00 -0.000804 -0.000731 -0.000375 -0.000696 -0.019762\n",
       "2023-01-01 05:00:00 -0.000690  0.000042 -0.000048  0.000478  0.037239\n",
       "...                       ...       ...       ...       ...       ...\n",
       "2024-01-10 02:00:00  0.001757  0.002703  0.005902  0.000993 -0.454137\n",
       "2024-01-10 03:00:00  0.000988  0.002681  0.000882  0.003122  0.157999\n",
       "2024-01-10 04:00:00  0.003122 -0.000614  0.000231 -0.003538 -0.020481\n",
       "2024-01-10 05:00:00 -0.003535 -0.003537 -0.001023  0.000392 -0.313790\n",
       "2024-01-10 06:00:00  0.000392  0.000875 -0.000436  0.000554 -0.072864\n",
       "\n",
       "[8982 rows x 5 columns]"
      ]
     },
     "execution_count": 4,
     "metadata": {},
     "output_type": "execute_result"
    }
   ],
   "source": [
    "# Data Preprocessing\n",
    "\n",
    "## Drop null values\n",
    "\n",
    "df = df.dropna()\n",
    "\n",
    "## Convert string to datetime\n",
    "\n",
    "df['date'] = pd.to_datetime(df['timestamp'])\n",
    "\n",
    "## Drop timestamp column\n",
    "\n",
    "df = df.drop('timestamp', axis=1)\n",
    "\n",
    "## Set date as index\n",
    "\n",
    "df = df.set_index('date')\n",
    "\n",
    "## Sort by date\n",
    "\n",
    "df = df.sort_index()\n",
    "\n",
    "## Change price to percentage change\n",
    "\n",
    "df['open'] = df['open'].pct_change()\n",
    "df['high'] = df['high'].pct_change()\n",
    "df['low'] = df['low'].pct_change()\n",
    "df['close'] = df['close'].pct_change()\n",
    "df['volume'] = df['volume'].pct_change()\n",
    "\n",
    "## Drop first row\n",
    "\n",
    "df = df.drop(df.index[0])\n",
    "\n",
    "## Show data\n",
    "\n",
    "df"
   ]
  },
  {
   "cell_type": "code",
   "execution_count": 5,
   "metadata": {},
   "outputs": [
    {
     "data": {
      "text/plain": [
       "8972"
      ]
     },
     "execution_count": 5,
     "metadata": {},
     "output_type": "execute_result"
    }
   ],
   "source": [
    "# Make data\n",
    "\n",
    "## split into chunks\n",
    "\n",
    "def split_data(data, chunk_size):\n",
    "    chunks = []\n",
    "    for i in range(len(data) - chunk_size):\n",
    "        chunks.append(data[i:i+chunk_size].to_numpy())\n",
    "    return chunks\n",
    "\n",
    "## split data\n",
    "\n",
    "chunk_size = 10\n",
    "data = split_data(df, chunk_size)\n",
    "\n",
    "## show data\n",
    "\n",
    "len(data)"
   ]
  },
  {
   "cell_type": "code",
   "execution_count": 6,
   "metadata": {},
   "outputs": [
    {
     "data": {
      "text/plain": [
       "(10, 5)"
      ]
     },
     "execution_count": 6,
     "metadata": {},
     "output_type": "execute_result"
    }
   ],
   "source": [
    "# data[0].to_numpy().shape\n",
    "data[0].shape"
   ]
  },
  {
   "cell_type": "code",
   "execution_count": 7,
   "metadata": {},
   "outputs": [],
   "source": [
    "# import torch and torch dataset and dataloader\n",
    "\n",
    "import torch\n",
    "import torch.onnx as onnx\n",
    "import torch.nn as nn\n",
    "import torch.optim as optim\n",
    "from torch.utils.data import Dataset, DataLoader"
   ]
  },
  {
   "cell_type": "code",
   "execution_count": 8,
   "metadata": {},
   "outputs": [],
   "source": [
    "# Create dataset\n",
    "\n",
    "class CryptoDataset(Dataset):\n",
    "    def __init__(self, data):\n",
    "        self.data = data\n",
    "\n",
    "    def __len__(self):\n",
    "        return len(self.data)\n",
    "\n",
    "    def __getitem__(self, idx):\n",
    "        return self.data[idx]\n",
    "    \n",
    "dataset = CryptoDataset(data)\n",
    "\n",
    "# Create dataloader\n",
    "\n",
    "dataloader = DataLoader(dataset, batch_size=32, shuffle=True)\n",
    "\n",
    "# Create model\n",
    "\n",
    "class TimeSeriesEncoder(nn.Module):\n",
    "    def __init__(self, input_size, hidden_size):\n",
    "        super(TimeSeriesEncoder, self).__init__()\n",
    "        self.lstm1 = nn.LSTM(input_size, 64)\n",
    "        self.conv1 = nn.Conv1d(64, 32, 1)\n",
    "        self.lstm2 = nn.LSTM(32, hidden_size)\n",
    "        \n",
    "    def forward(self, x):\n",
    "        x, _ = self.lstm1(x)\n",
    "        x = x.permute(1, 2, 0)\n",
    "        x = self.conv1(x)\n",
    "        x = x.permute(2, 0, 1)\n",
    "        x, _ = self.lstm2(x)\n",
    "        return x\n",
    "    \n",
    "class TimeSeriesDecoder(nn.Module):\n",
    "    def __init__(self, hidden_size, output_size):\n",
    "        super(TimeSeriesDecoder, self).__init__()\n",
    "        self.lstm1 = nn.LSTM(hidden_size, 32)\n",
    "        self.conv1 = nn.Conv1d(32, 64, 1)\n",
    "        self.lstm2 = nn.LSTM(64, output_size)\n",
    "        \n",
    "    def forward(self, x):\n",
    "        x, _ = self.lstm1(x)\n",
    "        x = x.permute(1, 2, 0)\n",
    "        x = self.conv1(x)\n",
    "        x = x.permute(2, 0, 1)\n",
    "        x, _ = self.lstm2(x)\n",
    "        return x\n",
    "\n",
    "class TimeSeriesEncoderDecoder(nn.Module):\n",
    "    def __init__(self, input_size, hidden_size, output_size):\n",
    "        super(TimeSeriesEncoderDecoder, self).__init__()\n",
    "        self.encoder = TimeSeriesEncoder(input_size, hidden_size)\n",
    "        self.decoder = TimeSeriesDecoder(hidden_size, output_size)\n",
    "        \n",
    "    def forward(self, x):\n",
    "        x = self.encoder(x)\n",
    "        x = self.decoder(x)\n",
    "        return x"
   ]
  },
  {
   "cell_type": "code",
   "execution_count": 9,
   "metadata": {},
   "outputs": [
    {
     "data": {
      "text/plain": [
       "torch.Size([32, 10, 5])"
      ]
     },
     "execution_count": 9,
     "metadata": {},
     "output_type": "execute_result"
    }
   ],
   "source": [
    "# Check data shape\n",
    "data = next(iter(dataloader))\n",
    "data.shape"
   ]
  },
  {
   "cell_type": "code",
   "execution_count": 10,
   "metadata": {},
   "outputs": [
    {
     "name": "stdout",
     "output_type": "stream",
     "text": [
      "Epoch: 1, Loss: 0.22428469982965984, Learning Rate: 0.0075\n",
      "Epoch: 2, Loss: 0.21517397369195135, Learning Rate: 0.002500000000000001\n",
      "Epoch: 3, Loss: 0.21501277387142181, Learning Rate: 0.0\n"
     ]
    }
   ],
   "source": [
    "EPOCHS = 3\n",
    "# Create model\n",
    "\n",
    "model = TimeSeriesEncoderDecoder(5, 4, 5)\n",
    "\n",
    "# Create loss function\n",
    "\n",
    "criterion = nn.MSELoss()\n",
    "\n",
    "# Create optimizer\n",
    "\n",
    "optimizer = optim.Adam(model.parameters(), lr=0.01)\n",
    "\n",
    "# Create Learning Rate Scheduler\n",
    "\n",
    "scheduler = optim.lr_scheduler.CosineAnnealingLR(optimizer, EPOCHS)\n",
    "\n",
    "# Train model\n",
    "device = torch.device('cuda' if torch.cuda.is_available() else 'cpu')\n",
    "\n",
    "model.to(device)\n",
    "criterion.to(device)\n",
    "\n",
    "model.train()\n",
    "\n",
    "loss_history = []\n",
    "\n",
    "for epoch in range(EPOCHS):\n",
    "    temp_loss = []\n",
    "    for i, data in enumerate(dataloader):\n",
    "        data = data.to(device).float()\n",
    "        optimizer.zero_grad()\n",
    "        # print(data.shape)\n",
    "        output = model(data)\n",
    "        loss = criterion(output, data)\n",
    "        loss.backward()\n",
    "        optimizer.step()\n",
    "        temp_loss.append(loss.item())\n",
    "        if i % 100 == 0:\n",
    "            print(f'Epoch: {epoch+1}, Loss: {loss.item()}', end='\\r')\n",
    "    scheduler.step()\n",
    "    loss_history.append(np.mean(temp_loss))\n",
    "    print(f'Epoch: {epoch+1}, Loss: {np.mean(temp_loss)}, Learning Rate: {scheduler.get_last_lr()[0]}')"
   ]
  },
  {
   "cell_type": "code",
   "execution_count": 11,
   "metadata": {},
   "outputs": [
    {
     "data": {
      "image/png": "[encoded data removed]",
      "text/plain": [
       "<Figure size 640x480 with 1 Axes>"
      ]
     },
     "metadata": {},
     "output_type": "display_data"
    }
   ],
   "source": [
    "# Plot loss\n",
    "\n",
    "plt.plot(loss_history)\n",
    "plt.xlabel('Epochs')\n",
    "plt.ylabel('Loss')\n",
    "plt.show()"
   ]
  },
  {
   "cell_type": "code",
   "execution_count": 12,
   "metadata": {},
   "outputs": [
    {
     "data": {
      "text/plain": [
       "8962"
      ]
     },
     "execution_count": 12,
     "metadata": {},
     "output_type": "execute_result"
    }
   ],
   "source": [
    "# make data for training predictor\n",
    "\n",
    "new_data = split_data(df, chunk_size)\n",
    "\n",
    "def timeseries_data_chunk(data:list, chunk_size):\n",
    "    chunks = []\n",
    "    for i in range(len(data) - chunk_size):\n",
    "        chunks.append(data[i:i+chunk_size])\n",
    "    return chunks\n",
    "\n",
    "new_data = timeseries_data_chunk(new_data, chunk_size)\n",
    "\n",
    "len(new_data)"
   ]
  },
  {
   "cell_type": "code",
   "execution_count": 13,
   "metadata": {},
   "outputs": [],
   "source": [
    "def make_x_y(data):\n",
    "    x = []\n",
    "    y = [] # up or down or natural\n",
    "    for i in range(len(data) - 1):\n",
    "        x.append(data[i])\n",
    "        if data[i+1][0][3][0] > 0:\n",
    "            y.append(1) # up\n",
    "        elif data[i+1][0][3][0] < 0:\n",
    "            y.append(0) # down\n",
    "        else:\n",
    "            y.append(2) # natural\n",
    "    return x, y\n",
    "\n",
    "x, y = make_x_y(new_data)"
   ]
  },
  {
   "cell_type": "code",
   "execution_count": 14,
   "metadata": {},
   "outputs": [
    {
     "data": {
      "text/plain": [
       "(8961, 8961)"
      ]
     },
     "execution_count": 14,
     "metadata": {},
     "output_type": "execute_result"
    }
   ],
   "source": [
    "len(x), len(y)"
   ]
  },
  {
   "cell_type": "code",
   "execution_count": 15,
   "metadata": {},
   "outputs": [
    {
     "name": "stderr",
     "output_type": "stream",
     "text": [
      "C:\\Users\\hiban\\AppData\\Local\\Temp\\ipykernel_2396\\2932353887.py:5: UserWarning: Creating a tensor from a list of numpy.ndarrays is extremely slow. Please consider converting the list to a single numpy.ndarray with numpy.array() before converting to a tensor. (Triggered internally at ..\\torch\\csrc\\utils\\tensor_new.cpp:278.)\n",
      "  self.x = torch.tensor(x)\n"
     ]
    }
   ],
   "source": [
    "# Create dataset\n",
    "\n",
    "class CryptoPredictorDataset(Dataset):\n",
    "    def __init__(self, x, y):\n",
    "        self.x = torch.tensor(x)\n",
    "        self.y = torch.tensor(y)\n",
    "\n",
    "    def __len__(self):\n",
    "        return len(self.x)\n",
    "\n",
    "    def __getitem__(self, idx):\n",
    "        return self.x[idx], self.y[idx]\n",
    "    \n",
    "dataset = CryptoPredictorDataset(x, y)\n",
    "\n",
    "# Create dataloader\n",
    "\n",
    "dataloader = DataLoader(dataset, batch_size=32, shuffle=True)"
   ]
  },
  {
   "cell_type": "code",
   "execution_count": 16,
   "metadata": {},
   "outputs": [],
   "source": [
    "testdata = next(iter(dataloader))"
   ]
  },
  {
   "cell_type": "code",
   "execution_count": 17,
   "metadata": {},
   "outputs": [
    {
     "data": {
      "text/plain": [
       "(torch.Size([32, 10, 10, 5]), torch.Size([32]))"
      ]
     },
     "execution_count": 17,
     "metadata": {},
     "output_type": "execute_result"
    }
   ],
   "source": [
    "testdata[0].shape, testdata[1].shape"
   ]
  },
  {
   "cell_type": "code",
   "execution_count": 18,
   "metadata": {},
   "outputs": [
    {
     "data": {
      "text/plain": [
       "torch.Size([32, 10, 5])"
      ]
     },
     "execution_count": 18,
     "metadata": {},
     "output_type": "execute_result"
    }
   ],
   "source": [
    "testdata[0][:,0].shape"
   ]
  },
  {
   "cell_type": "code",
   "execution_count": 19,
   "metadata": {},
   "outputs": [],
   "source": [
    "# Create model\n",
    "\n",
    "class TimeSeriesPredictor(nn.Module):\n",
    "    def __init__(self, pretrained_EncoderDecoder, hidden_size, output_size):\n",
    "        super(TimeSeriesPredictor, self).__init__()\n",
    "        self.encoder = pretrained_EncoderDecoder.encoder\n",
    "        self.predictor = nn.Linear(hidden_size, output_size)\n",
    "\n",
    "    def forward(self, x):\n",
    "        # x1 = self.encoder(x[:, 0])\n",
    "        x_var_list = []\n",
    "        for i in range(x.shape[1]):\n",
    "            x_var_list.append(self.encoder(x[:, i]))\n",
    "        x1 = torch.stack(x_var_list)\n",
    "        x1 = x1.permute(1, 0, 2, 3)\n",
    "        x1 = x1.mean(dim=1)\n",
    "        x1 = self.predictor(x1)\n",
    "        x1 = x1[:, -1, :]\n",
    "        return x1"
   ]
  },
  {
   "cell_type": "code",
   "execution_count": 20,
   "metadata": {},
   "outputs": [
    {
     "data": {
      "text/plain": [
       "torch.Size([32, 3])"
      ]
     },
     "execution_count": 20,
     "metadata": {},
     "output_type": "execute_result"
    }
   ],
   "source": [
    "for parm in model.parameters():\n",
    "    parm.requires_grad = False\n",
    "\n",
    "new_model = TimeSeriesPredictor(model, 4, 3)\n",
    "\n",
    "new_model.to(device)\n",
    "\n",
    "# test output\n",
    "new_model(testdata[0].to(device).float()).shape"
   ]
  },
  {
   "cell_type": "code",
   "execution_count": 21,
   "metadata": {},
   "outputs": [
    {
     "name": "stdout",
     "output_type": "stream",
     "text": [
      "Epoch: 1, Loss: 0.7389877820354339, Accuracy: 0.510564946619217, Learning Rate: 0.009755282581475769\n",
      "Epoch: 2, Loss: 0.7037269227021106, Accuracy: 0.5015569395017794, Learning Rate: 0.009045084971874737\n",
      "Epoch: 3, Loss: 0.7013082307004419, Accuracy: 0.5061165480427047, Learning Rate: 0.007938926261462366\n",
      "Epoch: 4, Loss: 0.7006143647580808, Accuracy: 0.5107873665480427, Learning Rate: 0.006545084971874737\n",
      "Epoch: 5, Loss: 0.7004835007453728, Accuracy: 0.5022241992882562, Learning Rate: 0.005\n",
      "Epoch: 6, Loss: 0.700514119927145, Accuracy: 0.5027802491103203, Learning Rate: 0.003454915028125263\n",
      "Epoch: 7, Loss: 0.6995004267030763, Accuracy: 0.5088967971530249, Learning Rate: 0.0020610737385376348\n",
      "Epoch: 8, Loss: 0.6995728251348611, Accuracy: 0.49833185053380785, Learning Rate: 0.0009549150281252633\n",
      "Epoch: 9, Loss: 0.6995226846895184, Accuracy: 0.5121218861209964, Learning Rate: 0.00024471741852423234\n",
      "Epoch: 10, Loss: 0.6995281606806555, Accuracy: 0.5093416370106761, Learning Rate: 0.0\n"
     ]
    }
   ],
   "source": [
    "# Create loss function\n",
    "\n",
    "criterion = nn.CrossEntropyLoss()\n",
    "\n",
    "# Create optimizer\n",
    "\n",
    "optimizer = optim.Adam(new_model.parameters(), lr=0.01)\n",
    "\n",
    "# Create Learning Rate Scheduler\n",
    "EPOCHS = 10\n",
    "scheduler = optim.lr_scheduler.CosineAnnealingLR(optimizer, EPOCHS)\n",
    "\n",
    "# Train model\n",
    "\n",
    "new_model.train()\n",
    "\n",
    "loss_history = []\n",
    "accuracy_history = []\n",
    "\n",
    "for epoch in range(EPOCHS):\n",
    "    temp_loss = []\n",
    "    temp_accuracy = []\n",
    "    for i, data in enumerate(dataloader):\n",
    "        x, y = data\n",
    "        x = x.to(device).float()\n",
    "        y = y.to(device)\n",
    "        optimizer.zero_grad()\n",
    "        output = new_model(x)\n",
    "        loss = criterion(output, y)\n",
    "        loss.backward()\n",
    "        optimizer.step()\n",
    "        temp_loss.append(loss.item())\n",
    "        accuracy = (output.argmax(1) == y).sum().item() / len(y)\n",
    "        temp_accuracy.append(accuracy)\n",
    "        if i % 100 == 0:\n",
    "            print(f'Epoch: {epoch+1}, Loss: {loss.item()}, Accuracy: {accuracy}', end='\\r')\n",
    "    scheduler.step()\n",
    "    loss_history.append(np.mean(temp_loss))\n",
    "    accuracy_history.append(np.mean(temp_accuracy))\n",
    "    print(f'Epoch: {epoch+1}, Loss: {np.mean(temp_loss)}, Accuracy: {np.mean(temp_accuracy)}, Learning Rate: {scheduler.get_last_lr()[0]}')"
   ]
  },
  {
   "cell_type": "code",
   "execution_count": 22,
   "metadata": {},
   "outputs": [
    {
     "data": {
      "image/png": "[encoded data removed]",
      "text/plain": [
       "<Figure size 640x480 with 1 Axes>"
      ]
     },
     "metadata": {},
     "output_type": "display_data"
    }
   ],
   "source": [
    "# plot loss\n",
    "\n",
    "plt.plot(loss_history)\n",
    "plt.xlabel('Epochs')\n",
    "plt.ylabel('Loss')\n",
    "plt.show()"
   ]
  },
  {
   "cell_type": "code",
   "execution_count": 23,
   "metadata": {},
   "outputs": [
    {
     "data": {
      "image/png": "[encoded data removed]",
      "text/plain": [
       "<Figure size 640x480 with 1 Axes>"
      ]
     },
     "metadata": {},
     "output_type": "display_data"
    }
   ],
   "source": [
    "# plot accuracy\n",
    "\n",
    "plt.plot(accuracy_history)\n",
    "plt.xlabel('Epochs')\n",
    "plt.ylabel('Accuracy')\n",
    "plt.show()"
   ]
  },
  {
   "cell_type": "code",
   "execution_count": 25,
   "metadata": {},
   "outputs": [
    {
     "name": "stderr",
     "output_type": "stream",
     "text": [
      "c:\\Program Files\\Python311\\Lib\\site-packages\\torch\\onnx\\symbolic_opset9.py:4662: UserWarning: Exporting a model to ONNX with a batch_size other than 1, with a variable length with LSTM can cause an error when running the ONNX model with a different batch size. Make sure to save the model with a batch size of 1, or define the initial states (h0/c0) as inputs of the model. \n",
      "  warnings.warn(\n"
     ]
    }
   ],
   "source": [
    "# output as onnx\n",
    "\n",
    "dummy_input = torch.randn(1, 10, 10, 5).to(device)\n",
    "onnx.export(new_model, dummy_input, 'crypto_predictor.onnx')"
   ]
  }
 ],
 "metadata": {
  "kernelspec": {
   "display_name": "Python 3",
   "language": "python",
   "name": "python3"
  },
  "language_info": {
   "codemirror_mode": {
    "name": "ipython",
    "version": 3
   },
   "file_extension": ".py",
   "mimetype": "text/x-python",
   "name": "python",
   "nbconvert_exporter": "python",
   "pygments_lexer": "ipython3",
   "version": "3.11.8"
  }
 },
 "nbformat": 4,
 "nbformat_minor": 2
}
